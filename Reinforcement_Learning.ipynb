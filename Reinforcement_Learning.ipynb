{
  "cells": [
    {
      "cell_type": "markdown",
      "metadata": {
        "id": "view-in-github",
        "colab_type": "text"
      },
      "source": [
        "<a href=\"https://colab.research.google.com/github/Brenton237/Machine-Learning-AI-Projects/blob/main/Reinforcement_Learning.ipynb\" target=\"_parent\"><img src=\"https://colab.research.google.com/assets/colab-badge.svg\" alt=\"Open In Colab\"/></a>"
      ]
    },
    {
      "cell_type": "code",
      "execution_count": null,
      "metadata": {
        "colab": {
          "base_uri": "https://localhost:8080/"
        },
        "id": "kEmnqDNJSsVA",
        "outputId": "c6de049d-3065-4c3c-c257-807c4706d1f9"
      },
      "outputs": [
        {
          "name": "stdout",
          "output_type": "stream",
          "text": [
            "Mounted at /gdrive\n",
            "/gdrive\n"
          ]
        }
      ],
      "source": [
        "from google.colab import drive\n",
        "drive.mount('/gdrive')\n",
        "%cd /gdrive\n"
      ]
    },
    {
      "cell_type": "code",
      "execution_count": null,
      "metadata": {
        "colab": {
          "base_uri": "https://localhost:8080/"
        },
        "id": "GfDBg88MF-AU",
        "outputId": "1eebbcdf-6b83-4bc3-966c-668edd48804e"
      },
      "outputs": [
        {
          "name": "stdout",
          "output_type": "stream",
          "text": [
            "/gdrive/MyDrive\n"
          ]
        }
      ],
      "source": [
        "cd MyDrive/"
      ]
    },
    {
      "cell_type": "code",
      "execution_count": null,
      "metadata": {
        "colab": {
          "base_uri": "https://localhost:8080/"
        },
        "id": "_pCQ_C01GBzl",
        "outputId": "066dd818-6154-43c7-85db-2e9c8bc66f41"
      },
      "outputs": [
        {
          "name": "stdout",
          "output_type": "stream",
          "text": [
            "/gdrive/MyDrive/Reinforcement Learning Course\n"
          ]
        }
      ],
      "source": [
        "cd Reinforcement Learning Course"
      ]
    },
    {
      "cell_type": "markdown",
      "metadata": {
        "id": "XigWt-ShS8Wp"
      },
      "source": [
        "Reinforcement Learning focuses on teaching agents through trial and error.\n",
        "\n",
        "Limitations:\n",
        "*   For simple problems RL can be overkill\n",
        "*   Assumes the environment is Markovian\n",
        "*  Training can take a long time and is not always stable"
      ]
    },
    {
      "cell_type": "markdown",
      "metadata": {
        "id": "9CY1aMBgYDZ9"
      },
      "source": [
        "# Installing Required Dependencies\n",
        "\n",
        "This gives you a kicking off point rather tan having to write all of the code yourself.\n",
        "\n",
        "# Stable Baseline Install\n",
        "!pip install stable_baselines3[extra]"
      ]
    },
    {
      "cell_type": "code",
      "execution_count": null,
      "metadata": {
        "colab": {
          "base_uri": "https://localhost:8080/"
        },
        "id": "LSPnNz7QY12B",
        "outputId": "259e45a0-c41a-4393-c973-6639bb8c86e2"
      },
      "outputs": [
        {
          "name": "stdout",
          "output_type": "stream",
          "text": [
            "Collecting stable_baselines3[extra]\n",
            "  Downloading stable_baselines3-1.4.0-py3-none-any.whl (176 kB)\n",
            "\u001b[?25l\r\u001b[K     |█▉                              | 10 kB 24.7 MB/s eta 0:00:01\r\u001b[K     |███▊                            | 20 kB 30.2 MB/s eta 0:00:01\r\u001b[K     |█████▋                          | 30 kB 24.2 MB/s eta 0:00:01\r\u001b[K     |███████▍                        | 40 kB 12.3 MB/s eta 0:00:01\r\u001b[K     |█████████▎                      | 51 kB 10.6 MB/s eta 0:00:01\r\u001b[K     |███████████▏                    | 61 kB 12.3 MB/s eta 0:00:01\r\u001b[K     |█████████████                   | 71 kB 12.7 MB/s eta 0:00:01\r\u001b[K     |██████████████▉                 | 81 kB 12.3 MB/s eta 0:00:01\r\u001b[K     |████████████████▊               | 92 kB 13.5 MB/s eta 0:00:01\r\u001b[K     |██████████████████▌             | 102 kB 12.3 MB/s eta 0:00:01\r\u001b[K     |████████████████████▍           | 112 kB 12.3 MB/s eta 0:00:01\r\u001b[K     |██████████████████████▎         | 122 kB 12.3 MB/s eta 0:00:01\r\u001b[K     |████████████████████████        | 133 kB 12.3 MB/s eta 0:00:01\r\u001b[K     |██████████████████████████      | 143 kB 12.3 MB/s eta 0:00:01\r\u001b[K     |███████████████████████████▉    | 153 kB 12.3 MB/s eta 0:00:01\r\u001b[K     |█████████████████████████████▋  | 163 kB 12.3 MB/s eta 0:00:01\r\u001b[K     |███████████████████████████████▌| 174 kB 12.3 MB/s eta 0:00:01\r\u001b[K     |████████████████████████████████| 176 kB 12.3 MB/s \n",
            "\u001b[?25hRequirement already satisfied: pandas in /usr/local/lib/python3.7/dist-packages (from stable_baselines3[extra]) (1.3.5)\n",
            "Requirement already satisfied: matplotlib in /usr/local/lib/python3.7/dist-packages (from stable_baselines3[extra]) (3.2.2)\n",
            "Requirement already satisfied: numpy in /usr/local/lib/python3.7/dist-packages (from stable_baselines3[extra]) (1.21.5)\n",
            "Requirement already satisfied: torch>=1.8.1 in /usr/local/lib/python3.7/dist-packages (from stable_baselines3[extra]) (1.10.0+cu111)\n",
            "Requirement already satisfied: cloudpickle in /usr/local/lib/python3.7/dist-packages (from stable_baselines3[extra]) (1.3.0)\n",
            "Requirement already satisfied: gym<0.20,>=0.17 in /usr/local/lib/python3.7/dist-packages (from stable_baselines3[extra]) (0.17.3)\n",
            "Requirement already satisfied: tensorboard>=2.2.0 in /usr/local/lib/python3.7/dist-packages (from stable_baselines3[extra]) (2.8.0)\n",
            "Requirement already satisfied: psutil in /usr/local/lib/python3.7/dist-packages (from stable_baselines3[extra]) (5.4.8)\n",
            "Collecting atari-py==0.2.6\n",
            "  Downloading atari_py-0.2.6-cp37-cp37m-manylinux1_x86_64.whl (2.8 MB)\n",
            "\u001b[K     |████████████████████████████████| 2.8 MB 48.0 MB/s \n",
            "\u001b[?25hRequirement already satisfied: opencv-python in /usr/local/lib/python3.7/dist-packages (from stable_baselines3[extra]) (4.1.2.30)\n",
            "Requirement already satisfied: pillow in /usr/local/lib/python3.7/dist-packages (from stable_baselines3[extra]) (7.1.2)\n",
            "Requirement already satisfied: six in /usr/local/lib/python3.7/dist-packages (from atari-py==0.2.6->stable_baselines3[extra]) (1.15.0)\n",
            "Requirement already satisfied: pyglet<=1.5.0,>=1.4.0 in /usr/local/lib/python3.7/dist-packages (from gym<0.20,>=0.17->stable_baselines3[extra]) (1.5.0)\n",
            "Requirement already satisfied: scipy in /usr/local/lib/python3.7/dist-packages (from gym<0.20,>=0.17->stable_baselines3[extra]) (1.4.1)\n",
            "Requirement already satisfied: future in /usr/local/lib/python3.7/dist-packages (from pyglet<=1.5.0,>=1.4.0->gym<0.20,>=0.17->stable_baselines3[extra]) (0.16.0)\n",
            "Requirement already satisfied: absl-py>=0.4 in /usr/local/lib/python3.7/dist-packages (from tensorboard>=2.2.0->stable_baselines3[extra]) (1.0.0)\n",
            "Requirement already satisfied: requests<3,>=2.21.0 in /usr/local/lib/python3.7/dist-packages (from tensorboard>=2.2.0->stable_baselines3[extra]) (2.23.0)\n",
            "Requirement already satisfied: werkzeug>=0.11.15 in /usr/local/lib/python3.7/dist-packages (from tensorboard>=2.2.0->stable_baselines3[extra]) (1.0.1)\n",
            "Requirement already satisfied: wheel>=0.26 in /usr/local/lib/python3.7/dist-packages (from tensorboard>=2.2.0->stable_baselines3[extra]) (0.37.1)\n",
            "Requirement already satisfied: markdown>=2.6.8 in /usr/local/lib/python3.7/dist-packages (from tensorboard>=2.2.0->stable_baselines3[extra]) (3.3.6)\n",
            "Requirement already satisfied: google-auth-oauthlib<0.5,>=0.4.1 in /usr/local/lib/python3.7/dist-packages (from tensorboard>=2.2.0->stable_baselines3[extra]) (0.4.6)\n",
            "Requirement already satisfied: grpcio>=1.24.3 in /usr/local/lib/python3.7/dist-packages (from tensorboard>=2.2.0->stable_baselines3[extra]) (1.44.0)\n",
            "Requirement already satisfied: tensorboard-plugin-wit>=1.6.0 in /usr/local/lib/python3.7/dist-packages (from tensorboard>=2.2.0->stable_baselines3[extra]) (1.8.1)\n",
            "Requirement already satisfied: protobuf>=3.6.0 in /usr/local/lib/python3.7/dist-packages (from tensorboard>=2.2.0->stable_baselines3[extra]) (3.17.3)\n",
            "Requirement already satisfied: tensorboard-data-server<0.7.0,>=0.6.0 in /usr/local/lib/python3.7/dist-packages (from tensorboard>=2.2.0->stable_baselines3[extra]) (0.6.1)\n",
            "Requirement already satisfied: google-auth<3,>=1.6.3 in /usr/local/lib/python3.7/dist-packages (from tensorboard>=2.2.0->stable_baselines3[extra]) (1.35.0)\n",
            "Requirement already satisfied: setuptools>=41.0.0 in /usr/local/lib/python3.7/dist-packages (from tensorboard>=2.2.0->stable_baselines3[extra]) (57.4.0)\n",
            "Requirement already satisfied: rsa<5,>=3.1.4 in /usr/local/lib/python3.7/dist-packages (from google-auth<3,>=1.6.3->tensorboard>=2.2.0->stable_baselines3[extra]) (4.8)\n",
            "Requirement already satisfied: pyasn1-modules>=0.2.1 in /usr/local/lib/python3.7/dist-packages (from google-auth<3,>=1.6.3->tensorboard>=2.2.0->stable_baselines3[extra]) (0.2.8)\n",
            "Requirement already satisfied: cachetools<5.0,>=2.0.0 in /usr/local/lib/python3.7/dist-packages (from google-auth<3,>=1.6.3->tensorboard>=2.2.0->stable_baselines3[extra]) (4.2.4)\n",
            "Requirement already satisfied: requests-oauthlib>=0.7.0 in /usr/local/lib/python3.7/dist-packages (from google-auth-oauthlib<0.5,>=0.4.1->tensorboard>=2.2.0->stable_baselines3[extra]) (1.3.1)\n",
            "Requirement already satisfied: importlib-metadata>=4.4 in /usr/local/lib/python3.7/dist-packages (from markdown>=2.6.8->tensorboard>=2.2.0->stable_baselines3[extra]) (4.11.2)\n",
            "Requirement already satisfied: zipp>=0.5 in /usr/local/lib/python3.7/dist-packages (from importlib-metadata>=4.4->markdown>=2.6.8->tensorboard>=2.2.0->stable_baselines3[extra]) (3.7.0)\n",
            "Requirement already satisfied: typing-extensions>=3.6.4 in /usr/local/lib/python3.7/dist-packages (from importlib-metadata>=4.4->markdown>=2.6.8->tensorboard>=2.2.0->stable_baselines3[extra]) (3.10.0.2)\n",
            "Requirement already satisfied: pyasn1<0.5.0,>=0.4.6 in /usr/local/lib/python3.7/dist-packages (from pyasn1-modules>=0.2.1->google-auth<3,>=1.6.3->tensorboard>=2.2.0->stable_baselines3[extra]) (0.4.8)\n",
            "Requirement already satisfied: certifi>=2017.4.17 in /usr/local/lib/python3.7/dist-packages (from requests<3,>=2.21.0->tensorboard>=2.2.0->stable_baselines3[extra]) (2021.10.8)\n",
            "Requirement already satisfied: urllib3!=1.25.0,!=1.25.1,<1.26,>=1.21.1 in /usr/local/lib/python3.7/dist-packages (from requests<3,>=2.21.0->tensorboard>=2.2.0->stable_baselines3[extra]) (1.24.3)\n",
            "Requirement already satisfied: idna<3,>=2.5 in /usr/local/lib/python3.7/dist-packages (from requests<3,>=2.21.0->tensorboard>=2.2.0->stable_baselines3[extra]) (2.10)\n",
            "Requirement already satisfied: chardet<4,>=3.0.2 in /usr/local/lib/python3.7/dist-packages (from requests<3,>=2.21.0->tensorboard>=2.2.0->stable_baselines3[extra]) (3.0.4)\n",
            "Requirement already satisfied: oauthlib>=3.0.0 in /usr/local/lib/python3.7/dist-packages (from requests-oauthlib>=0.7.0->google-auth-oauthlib<0.5,>=0.4.1->tensorboard>=2.2.0->stable_baselines3[extra]) (3.2.0)\n",
            "Requirement already satisfied: pyparsing!=2.0.4,!=2.1.2,!=2.1.6,>=2.0.1 in /usr/local/lib/python3.7/dist-packages (from matplotlib->stable_baselines3[extra]) (3.0.7)\n",
            "Requirement already satisfied: kiwisolver>=1.0.1 in /usr/local/lib/python3.7/dist-packages (from matplotlib->stable_baselines3[extra]) (1.3.2)\n",
            "Requirement already satisfied: python-dateutil>=2.1 in /usr/local/lib/python3.7/dist-packages (from matplotlib->stable_baselines3[extra]) (2.8.2)\n",
            "Requirement already satisfied: cycler>=0.10 in /usr/local/lib/python3.7/dist-packages (from matplotlib->stable_baselines3[extra]) (0.11.0)\n",
            "Requirement already satisfied: pytz>=2017.3 in /usr/local/lib/python3.7/dist-packages (from pandas->stable_baselines3[extra]) (2018.9)\n",
            "\u001b[33mWARNING: The candidate selected for download or install is a yanked version: 'atari-py' candidate (version 0.2.6 at https://files.pythonhosted.org/packages/8f/ba/1d22e9d2f332f07aaa57041f5dd569c2cb40a92bd6374a0b743ec3dfae97/atari_py-0.2.6-cp37-cp37m-manylinux1_x86_64.whl#sha256=d9e2c25d39783867c2f29d1dd9d3a659fc56036456d07dc9efe8bd7bb31a07d7 (from https://pypi.org/simple/atari-py/))\n",
            "Reason for being yanked: re-release with new wheels\u001b[0m\n",
            "Installing collected packages: stable-baselines3, atari-py\n",
            "  Attempting uninstall: atari-py\n",
            "    Found existing installation: atari-py 0.2.9\n",
            "    Uninstalling atari-py-0.2.9:\n",
            "      Successfully uninstalled atari-py-0.2.9\n",
            "Successfully installed atari-py-0.2.6 stable-baselines3-1.4.0\n"
          ]
        }
      ],
      "source": [
        "!pip install stable_baselines3[extra]"
      ]
    },
    {
      "cell_type": "markdown",
      "metadata": {
        "id": "F7ESQHFyZbuk"
      },
      "source": [
        "#Stable Baselines\n",
        "Stable baselines is a python library that makes it easier to get up and runing with RL.\n",
        "\n",
        "It is oringinally based off the OpenAI Baselines package but has additional features that make it easy to get started with RL.\n",
        "\n",
        "#Documentation\n",
        "link:[link text](https://stable-baselines3.readthedocs.io/en/master/guide/migration.html)"
      ]
    },
    {
      "cell_type": "markdown",
      "metadata": {
        "id": "_oEw1VEVbgT9"
      },
      "source": [
        "#1. Import Dependencies"
      ]
    },
    {
      "cell_type": "code",
      "execution_count": null,
      "metadata": {
        "colab": {
          "base_uri": "https://localhost:8080/"
        },
        "id": "CAfkjkKyZTDe",
        "outputId": "d467dcaf-8e0d-49a2-bc01-ceac4e256192"
      },
      "outputs": [
        {
          "name": "stdout",
          "output_type": "stream",
          "text": [
            "Requirement already satisfied: stable_baselines3[extra] in /usr/local/lib/python3.7/dist-packages (1.4.0)\n",
            "Requirement already satisfied: cloudpickle in /usr/local/lib/python3.7/dist-packages (from stable_baselines3[extra]) (1.3.0)\n",
            "Requirement already satisfied: pandas in /usr/local/lib/python3.7/dist-packages (from stable_baselines3[extra]) (1.3.5)\n",
            "Requirement already satisfied: numpy in /usr/local/lib/python3.7/dist-packages (from stable_baselines3[extra]) (1.21.5)\n",
            "Requirement already satisfied: matplotlib in /usr/local/lib/python3.7/dist-packages (from stable_baselines3[extra]) (3.2.2)\n",
            "Requirement already satisfied: gym<0.20,>=0.17 in /usr/local/lib/python3.7/dist-packages (from stable_baselines3[extra]) (0.17.3)\n",
            "Requirement already satisfied: torch>=1.8.1 in /usr/local/lib/python3.7/dist-packages (from stable_baselines3[extra]) (1.10.0+cu111)\n",
            "Requirement already satisfied: pillow in /usr/local/lib/python3.7/dist-packages (from stable_baselines3[extra]) (7.1.2)\n",
            "Requirement already satisfied: psutil in /usr/local/lib/python3.7/dist-packages (from stable_baselines3[extra]) (5.4.8)\n",
            "Requirement already satisfied: tensorboard>=2.2.0 in /usr/local/lib/python3.7/dist-packages (from stable_baselines3[extra]) (2.8.0)\n",
            "Requirement already satisfied: atari-py==0.2.6 in /usr/local/lib/python3.7/dist-packages (from stable_baselines3[extra]) (0.2.6)\n",
            "Requirement already satisfied: opencv-python in /usr/local/lib/python3.7/dist-packages (from stable_baselines3[extra]) (4.1.2.30)\n",
            "Requirement already satisfied: six in /usr/local/lib/python3.7/dist-packages (from atari-py==0.2.6->stable_baselines3[extra]) (1.15.0)\n",
            "Requirement already satisfied: scipy in /usr/local/lib/python3.7/dist-packages (from gym<0.20,>=0.17->stable_baselines3[extra]) (1.4.1)\n",
            "Requirement already satisfied: pyglet<=1.5.0,>=1.4.0 in /usr/local/lib/python3.7/dist-packages (from gym<0.20,>=0.17->stable_baselines3[extra]) (1.5.0)\n",
            "Requirement already satisfied: future in /usr/local/lib/python3.7/dist-packages (from pyglet<=1.5.0,>=1.4.0->gym<0.20,>=0.17->stable_baselines3[extra]) (0.16.0)\n",
            "Requirement already satisfied: grpcio>=1.24.3 in /usr/local/lib/python3.7/dist-packages (from tensorboard>=2.2.0->stable_baselines3[extra]) (1.44.0)\n",
            "Requirement already satisfied: google-auth<3,>=1.6.3 in /usr/local/lib/python3.7/dist-packages (from tensorboard>=2.2.0->stable_baselines3[extra]) (1.35.0)\n",
            "Requirement already satisfied: tensorboard-plugin-wit>=1.6.0 in /usr/local/lib/python3.7/dist-packages (from tensorboard>=2.2.0->stable_baselines3[extra]) (1.8.1)\n",
            "Requirement already satisfied: werkzeug>=0.11.15 in /usr/local/lib/python3.7/dist-packages (from tensorboard>=2.2.0->stable_baselines3[extra]) (1.0.1)\n",
            "Requirement already satisfied: wheel>=0.26 in /usr/local/lib/python3.7/dist-packages (from tensorboard>=2.2.0->stable_baselines3[extra]) (0.37.1)\n",
            "Requirement already satisfied: requests<3,>=2.21.0 in /usr/local/lib/python3.7/dist-packages (from tensorboard>=2.2.0->stable_baselines3[extra]) (2.23.0)\n",
            "Requirement already satisfied: setuptools>=41.0.0 in /usr/local/lib/python3.7/dist-packages (from tensorboard>=2.2.0->stable_baselines3[extra]) (57.4.0)\n",
            "Requirement already satisfied: tensorboard-data-server<0.7.0,>=0.6.0 in /usr/local/lib/python3.7/dist-packages (from tensorboard>=2.2.0->stable_baselines3[extra]) (0.6.1)\n",
            "Requirement already satisfied: markdown>=2.6.8 in /usr/local/lib/python3.7/dist-packages (from tensorboard>=2.2.0->stable_baselines3[extra]) (3.3.6)\n",
            "Requirement already satisfied: absl-py>=0.4 in /usr/local/lib/python3.7/dist-packages (from tensorboard>=2.2.0->stable_baselines3[extra]) (1.0.0)\n",
            "Requirement already satisfied: google-auth-oauthlib<0.5,>=0.4.1 in /usr/local/lib/python3.7/dist-packages (from tensorboard>=2.2.0->stable_baselines3[extra]) (0.4.6)\n",
            "Requirement already satisfied: protobuf>=3.6.0 in /usr/local/lib/python3.7/dist-packages (from tensorboard>=2.2.0->stable_baselines3[extra]) (3.17.3)\n"
          ]
        }
      ],
      "source": [
        "!pip install stable_baselines3[extra]"
      ]
    },
    {
      "cell_type": "code",
      "execution_count": null,
      "metadata": {
        "id": "mElnEeu4I3xg"
      },
      "outputs": [],
      "source": [
        "!pip install gym pyvirtualdisplay > /dev/null 2>&1\n",
        "!apt-get install -y xvfb python-opengl ffmpeg > /dev/null 2>&1\n",
        "!pip install colabgymrender==1.0.2"
      ]
    },
    {
      "cell_type": "code",
      "execution_count": null,
      "metadata": {
        "colab": {
          "background_save": true
        },
        "id": "cnZhSCdEcC72",
        "outputId": "3daa6870-fbab-42da-8173-aae962055266"
      },
      "outputs": [
        {
          "name": "stdout",
          "output_type": "stream",
          "text": [
            "Imageio: 'ffmpeg-linux64-v3.3.1' was not found on your computer; downloading it now.\n",
            "Try 1. Download from https://github.com/imageio/imageio-binaries/raw/master/ffmpeg/ffmpeg-linux64-v3.3.1 (43.8 MB)\n",
            "Downloading: 8192/45929032 bytes (0.0%)\b\b\b\b\b\b\b\b\b\b\b\b\b\b\b\b\b\b\b\b\b\b\b\b\b\b3186688/45929032 bytes (6.9%)\b\b\b\b\b\b\b\b\b\b\b\b\b\b\b\b\b\b\b\b\b\b\b\b\b\b\b\b\b6807552/45929032 bytes (14.8%)\b\b\b\b\b\b\b\b\b\b\b\b\b\b\b\b\b\b\b\b\b\b\b\b\b\b\b\b\b\b10534912/45929032 bytes (22.9%)\b\b\b\b\b\b\b\b\b\b\b\b\b\b\b\b\b\b\b\b\b\b\b\b\b\b\b\b\b\b\b14196736/45929032 bytes (30.9%)\b\b\b\b\b\b\b\b\b\b\b\b\b\b\b\b\b\b\b\b\b\b\b\b\b\b\b\b\b\b\b17711104/45929032 bytes (38.6%)\b\b\b\b\b\b\b\b\b\b\b\b\b\b\b\b\b\b\b\b\b\b\b\b\b\b\b\b\b\b\b21381120/45929032 bytes (46.6%)\b\b\b\b\b\b\b\b\b\b\b\b\b\b\b\b\b\b\b\b\b\b\b\b\b\b\b\b\b\b\b24928256/45929032 bytes (54.3%)\b\b\b\b\b\b\b\b\b\b\b\b\b\b\b\b\b\b\b\b\b\b\b\b\b\b\b\b\b\b\b28631040/45929032 bytes (62.3%)\b\b\b\b\b\b\b\b\b\b\b\b\b\b\b\b\b\b\b\b\b\b\b\b\b\b\b\b\b\b\b32284672/45929032 bytes (70.3%)\b\b\b\b\b\b\b\b\b\b\b\b\b\b\b\b\b\b\b\b\b\b\b\b\b\b\b\b\b\b\b35913728/45929032 bytes (78.2%)\b\b\b\b\b\b\b\b\b\b\b\b\b\b\b\b\b\b\b\b\b\b\b\b\b\b\b\b\b\b\b39403520/45929032 bytes (85.8%)\b\b\b\b\b\b\b\b\b\b\b\b\b\b\b\b\b\b\b\b\b\b\b\b\b\b\b\b\b\b\b43024384/45929032 bytes (93.7%)\b\b\b\b\b\b\b\b\b\b\b\b\b\b\b\b\b\b\b\b\b\b\b\b\b\b\b\b\b\b\b45929032/45929032 bytes (100.0%)\n",
            "  Done\n",
            "File saved as /root/.imageio/ffmpeg/ffmpeg-linux64-v3.3.1.\n"
          ]
        },
        {
          "data": {
            "text/plain": [
              "<pyvirtualdisplay.display.Display at 0x7fa6a6cba950>"
            ]
          },
          "execution_count": null,
          "metadata": {},
          "output_type": "execute_result"
        }
      ],
      "source": [
        "import os\n",
        "import gym\n",
        "from stable_baselines3 import PPO\n",
        "from stable_baselines3.common.vec_env import DummyVecEnv\n",
        "from stable_baselines3.common.evaluation import evaluate_policy\n",
        "from colabgymrender.recorder import Recorder\n",
        "from pyvirtualdisplay import Display\n",
        "display = Display(visible=0, size=(400, 300))\n",
        "display.start()"
      ]
    },
    {
      "cell_type": "markdown",
      "metadata": {
        "id": "KBkqxCl8b5nE"
      },
      "source": [
        "#2. Load Environment\n",
        "# Simulated vs Real Environments\n",
        "In the begining we looked at the diferent components required to work on reinforcement learning environments.\n",
        "\n",
        "One important part revolves around the agents and policies, the other important part is the environment.\n",
        "\n",
        "Environments can be either real or simulated. Simulated environments give you the ability to trail and train a model in a safe and cost effective manner.\n",
        "\n",
        "#OpenAI Gym Documentation\n",
        "OpenAI Gym provides you with an easy way to build environments for training RL agents.\n",
        "link here:[link text](https://gym.openai.com/docs/)\n",
        "\n",
        "\n",
        "#OpenAI Gym Spaces\n",
        "This gives you a kicking off point rather than having all of the code yourself.\n",
        "\n",
        "**Box** - n dimensional tensor, range of values E.g. Box(0,1,shape=(3,3))\n",
        "\n",
        "**Discrete** - set of items E.g. Discrete(3)\n",
        "\n",
        "**Tuple** - tuple of other spaces e.g.Box or Discrete E.g. Tuple((Discrete(2), Box(0,100, shape=(1,))))\n",
        "\n",
        "**Dict** - dictionary of spaces e.g. Box or Discrete E.g. Dict(('height',Discrete(2), \"speed\":Box(0,100, shape-(1))))\n",
        "\n",
        "MultiBinary - one hot binary values E.g. MultiBinary(4)\n",
        "\n",
        "MutiDiscrete - multiple discrete values E.g. MultiDiscrrete([5,2,2])"
      ]
    },
    {
      "cell_type": "code",
      "execution_count": null,
      "metadata": {
        "colab": {
          "background_save": true
        },
        "id": "txWSm7fNggHL"
      },
      "outputs": [],
      "source": [
        "environment_name = 'CartPole-v0'\n",
        "env = gym.make(environment_name)\n",
        "env = Recorder(env, './video')"
      ]
    },
    {
      "cell_type": "code",
      "execution_count": null,
      "metadata": {
        "colab": {
          "background_save": true
        },
        "id": "7-op-qy7FwjC",
        "outputId": "0b83ac26-af61-4f50-a25a-eb52670f30bf"
      },
      "outputs": [
        {
          "name": "stdout",
          "output_type": "stream",
          "text": [
            "Episode:1   Score:19.0\n",
            "Episode:2   Score:24.0\n",
            "Episode:3   Score:16.0\n",
            "Episode:4   Score:22.0\n",
            "Episode:5   Score:79.0\n"
          ]
        },
        {
          "name": "stderr",
          "output_type": "stream",
          "text": [
            "100%|██████████| 81/81 [00:00<00:00, 113.69it/s]\n"
          ]
        },
        {
          "data": {
            "text/html": [
              "<div align=middle><video width='400' height='600'src='data:video/mp4;base64,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' controls>Sorry, seems like your browser doesn't support HTML5 audio/video</video></div>"
            ],
            "text/plain": [
              "<moviepy.video.io.html_tools.HTML2 object>"
            ]
          },
          "execution_count": null,
          "metadata": {},
          "output_type": "execute_result"
        }
      ],
      "source": [
        "episodes = 5\n",
        "for episode in range(1, episodes+1):\n",
        "    state = env.reset()\n",
        "    done = False\n",
        "    score = 0\n",
        "\n",
        "    while not done:\n",
        "      action = env.action_space.sample()\n",
        "      n_state, reward, done, info = env.step(action)\n",
        "      score += reward\n",
        "\n",
        "    print('Episode:{}   Score:{}'.format(episode, score))\n",
        "env.play()"
      ]
    },
    {
      "cell_type": "markdown",
      "metadata": {
        "id": "EyS8CuH9qlqN"
      },
      "source": [
        "#Env. Functions\n",
        "the main environment functions are:\n",
        "\n",
        "env.reset() - reset the environment and obtain initial observations\n",
        "\n",
        "env.render() - visualise the environment\n",
        "\n",
        "env.step() - apply an action to the environment\n",
        "\n",
        "env.close() - close down the render frame"
      ]
    },
    {
      "cell_type": "code",
      "execution_count": null,
      "metadata": {
        "colab": {
          "background_save": true
        },
        "id": "rWE5WMaTHFcE",
        "outputId": "6c63afff-0486-46f2-9b2b-66386bd83ef4"
      },
      "outputs": [
        {
          "data": {
            "text/plain": [
              "(array([ 0.45228391,  1.49597254, -0.25339324, -1.73732883]), 0.0, True, {})"
            ]
          },
          "execution_count": null,
          "metadata": {},
          "output_type": "execute_result"
        }
      ],
      "source": [
        "env.step(1)"
      ]
    },
    {
      "cell_type": "code",
      "execution_count": null,
      "metadata": {
        "colab": {
          "background_save": true
        },
        "id": "d3051L9LoZsh",
        "outputId": "35a26b35-caaa-48d7-a672-2d01d7b84c77"
      },
      "outputs": [
        {
          "data": {
            "text/plain": [
              "array([ 7.6958925e-01, -2.6568585e+38,  2.6231848e-02, -9.2782461e+37],\n",
              "      dtype=float32)"
            ]
          },
          "execution_count": null,
          "metadata": {},
          "output_type": "execute_result"
        }
      ],
      "source": [
        "env.observation_space.sample()"
      ]
    },
    {
      "cell_type": "markdown",
      "metadata": {
        "id": "vYMH-HyDvP80"
      },
      "source": [
        "# Understanding The Environment"
      ]
    },
    {
      "cell_type": "code",
      "execution_count": null,
      "metadata": {
        "colab": {
          "background_save": true
        },
        "id": "N6hR1qXYvaIW",
        "outputId": "cdc3890a-8f51-45bc-826e-f93f9ab926bf"
      },
      "outputs": [
        {
          "data": {
            "text/plain": [
              "Discrete(2)"
            ]
          },
          "execution_count": null,
          "metadata": {},
          "output_type": "execute_result"
        }
      ],
      "source": [
        "env.action_space"
      ]
    },
    {
      "cell_type": "code",
      "execution_count": null,
      "metadata": {
        "colab": {
          "background_save": true
        },
        "id": "6_9DwC7JIst3",
        "outputId": "2bfb1f89-d950-42f8-e386-2c18d316eb69"
      },
      "outputs": [
        {
          "data": {
            "text/plain": [
              "1"
            ]
          },
          "execution_count": null,
          "metadata": {},
          "output_type": "execute_result"
        }
      ],
      "source": [
        "env.action_space.sample()"
      ]
    },
    {
      "cell_type": "code",
      "execution_count": null,
      "metadata": {
        "colab": {
          "background_save": true
        },
        "id": "3X8wG3DCItOP",
        "outputId": "9900c02c-aac2-4185-fa73-c683dd6b6466"
      },
      "outputs": [
        {
          "data": {
            "text/plain": [
              "Box(-3.4028234663852886e+38, 3.4028234663852886e+38, (4,), float32)"
            ]
          },
          "execution_count": null,
          "metadata": {},
          "output_type": "execute_result"
        }
      ],
      "source": [
        "env.observation_space"
      ]
    },
    {
      "cell_type": "code",
      "execution_count": null,
      "metadata": {
        "colab": {
          "background_save": true
        },
        "id": "oxm8dMn9ItuJ",
        "outputId": "a50b524a-faf3-49fa-fa44-a2e4704157e1"
      },
      "outputs": [
        {
          "data": {
            "text/plain": [
              "array([ 9.6024418e-01, -2.4972751e+38,  1.3410217e-01, -1.9028184e+38],\n",
              "      dtype=float32)"
            ]
          },
          "execution_count": null,
          "metadata": {},
          "output_type": "execute_result"
        }
      ],
      "source": [
        "env.observation_space.sample()"
      ]
    },
    {
      "cell_type": "markdown",
      "metadata": {
        "id": "-9XhCB6VkMqL"
      },
      "source": [
        "#Training\n",
        "#Types of Algorithms\n",
        "\n",
        "Model vs Model Free: learning based on predictions of next state/reward or real samples.\n",
        "\n",
        "Stable baselines focuses on Model Free algorithms.\n",
        "\n",
        "#Choosing Algorithms\n",
        "\n",
        "There are a number of algorithms available through Stable Baselines as shown to the right. We can easily switch between each of these.\n",
        "\n",
        "Certain algorithms will perform better for certain environments. Often it helps to review literature inorder to determine the best approach.\n",
        "\n",
        "#Action Space\n",
        "Discrete Single Process: DQN\n",
        "Disrete Multi Processed: PPO or A2C\n",
        "Continuous Multi Processed: PPO or A2C"
      ]
    },
    {
      "cell_type": "markdown",
      "metadata": {
        "id": "eJ-cEEonryIX"
      },
      "source": [
        "#Understanding Training Metrics\n",
        "\n",
        "Evalution Metrics:\n",
        "Ep_len_mean, ep_rew_mean\n",
        "\n",
        "Time Metrics:Fps, iterations, time_elapsed,\n",
        "total_timesteps\n",
        "\n",
        "Loss Metrics:\n",
        "Entropy_loss, policy_loss, value_loss\n",
        "\n",
        "Other Metrics\n",
        "Explained_variance, Learning_rate, n_updates\n"
      ]
    },
    {
      "cell_type": "code",
      "execution_count": null,
      "metadata": {
        "colab": {
          "background_save": true
        },
        "id": "h7i8uka3oYZl"
      },
      "outputs": [],
      "source": [
        " #Make Directories first\n",
        " log_path = os.path.join('Training', 'Logs')"
      ]
    },
    {
      "cell_type": "code",
      "execution_count": null,
      "metadata": {
        "colab": {
          "background_save": true
        },
        "id": "zSgv7oywJiwF",
        "outputId": "d27d94e5-7517-4d4d-95f7-73669dc5eaa8"
      },
      "outputs": [
        {
          "data": {
            "application/vnd.google.colaboratory.intrinsic+json": {
              "type": "string"
            },
            "text/plain": [
              "'Training/Logs'"
            ]
          },
          "execution_count": null,
          "metadata": {},
          "output_type": "execute_result"
        }
      ],
      "source": [
        "log_path"
      ]
    },
    {
      "cell_type": "code",
      "execution_count": null,
      "metadata": {
        "colab": {
          "background_save": true
        },
        "id": "ZSDxN48lQBDy",
        "outputId": "cd5cdc29-cbee-468d-f1fa-5d8da98dbada"
      },
      "outputs": [
        {
          "name": "stdout",
          "output_type": "stream",
          "text": [
            "Using cuda device\n"
          ]
        }
      ],
      "source": [
        "env = gym.make(environment_name)\n",
        "env = DummyVecEnv([lambda: env])\n",
        "model = PPO('MlpPolicy', env, verbose=1, tensorboard_log=log_path)"
      ]
    },
    {
      "cell_type": "code",
      "execution_count": null,
      "metadata": {
        "id": "SrAtJJ9Xb3Ua"
      },
      "outputs": [],
      "source": [
        "model.learn(total_timesteps=20000)"
      ]
    },
    {
      "cell_type": "markdown",
      "metadata": {
        "id": "OgXAR29mhiiN"
      },
      "source": [
        "# Save and Reload Model"
      ]
    },
    {
      "cell_type": "code",
      "execution_count": null,
      "metadata": {
        "id": "JW9fFK5jpcjI"
      },
      "outputs": [],
      "source": [
        "PPO_Path = os.path.join('Training','Saved Models','PPO_Model_Cartpole')"
      ]
    },
    {
      "cell_type": "code",
      "execution_count": null,
      "metadata": {
        "id": "NF_FXFd3sOpW"
      },
      "outputs": [],
      "source": [
        "model.save(PPO_Path)"
      ]
    },
    {
      "cell_type": "code",
      "execution_count": null,
      "metadata": {
        "id": "XvqvA-GFs8sV"
      },
      "outputs": [],
      "source": [
        "#del model"
      ]
    },
    {
      "cell_type": "code",
      "execution_count": null,
      "metadata": {
        "id": "bUdCN3N6t0X7"
      },
      "outputs": [],
      "source": [
        "PPO_Path"
      ]
    },
    {
      "cell_type": "code",
      "execution_count": null,
      "metadata": {
        "id": "Uc2aA31mt8a1"
      },
      "outputs": [],
      "source": [
        "#model.learn(total_timesteps=1000)"
      ]
    },
    {
      "cell_type": "code",
      "execution_count": null,
      "metadata": {
        "id": "mXUTzGyXtD2s"
      },
      "outputs": [],
      "source": [
        "#model =PPO.load(PPO_Path, env=env)"
      ]
    },
    {
      "cell_type": "markdown",
      "metadata": {
        "id": "djirVYSPuivd"
      },
      "source": [
        "#Evaluation"
      ]
    },
    {
      "cell_type": "code",
      "execution_count": null,
      "metadata": {
        "id": "wa0qZtr6sbFj"
      },
      "outputs": [],
      "source": [
        "import sys\n",
        "#print(sys.getrecursionlimit())\n",
        "sys.setrecursionlimit(1000)\n",
        "print(sys.getrecursionlimit())"
      ]
    },
    {
      "cell_type": "code",
      "execution_count": null,
      "metadata": {
        "id": "vh9E2VU0uqTV"
      },
      "outputs": [],
      "source": [
        "evaluate_policy(model, env, n_eval_episodes=10, render = False)"
      ]
    }
  ],
  "metadata": {
    "accelerator": "GPU",
    "colab": {
      "provenance": [],
      "authorship_tag": "ABX9TyOKtgEYuzff4JyPU28t/QPC",
      "include_colab_link": true
    },
    "kernelspec": {
      "display_name": "Python 3",
      "name": "python3"
    },
    "language_info": {
      "name": "python"
    }
  },
  "nbformat": 4,
  "nbformat_minor": 0
}